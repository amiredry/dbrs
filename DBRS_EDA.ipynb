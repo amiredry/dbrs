{
 "cells": [
  {
   "cell_type": "code",
   "execution_count": 1,
   "metadata": {},
   "outputs": [],
   "source": [
    "import pandas as pd\n",
    "import numpy  as np\n",
    "import json\n"
   ]
  },
  {
   "cell_type": "code",
   "execution_count": 41,
   "metadata": {},
   "outputs": [],
   "source": [
    "# Read in the 311 Service Requests dataset for 2017\n",
    "all_complaint = pd.read_csv('complaint.csv', header=0, names=['created_date', 'borough', 'complaint_type', 'incident_zip'],\n",
    "                        dtype = np.object)\n",
    "\n",
    "# Read in the 2010 US Census Population By Zip Code dataset\n",
    "population = pd.read_csv('ztca.csv', header=0,  names=['incident_zip','population'], \n",
    "                         dtype = np.object)\n"
   ]
  },
  {
   "cell_type": "markdown",
   "metadata": {},
   "source": [
    "***"
   ]
  },
  {
   "cell_type": "markdown",
   "metadata": {},
   "source": [
    "<font style=\"color:rgba(0, 0, 0, 0.8); font-size:18px; font-style: italic;\">1. Consider only the 10 most common overall complaint types. For each borough, how many of each of those 10 types were there in 2017?</font>"
   ]
  },
  {
   "cell_type": "markdown",
   "metadata": {},
   "source": [
    "<font style=\"color:rgba(0, 0, 0, 0.8); font-size:16px;\"> Initial data exploration and preparation</font>"
   ]
  },
  {
   "cell_type": "code",
   "execution_count": 3,
   "metadata": {},
   "outputs": [],
   "source": [
    "top_complaint = all_complaint"
   ]
  },
  {
   "cell_type": "code",
   "execution_count": 4,
   "metadata": {},
   "outputs": [
    {
     "data": {
      "text/html": [
       "<div>\n",
       "<style scoped>\n",
       "    .dataframe tbody tr th:only-of-type {\n",
       "        vertical-align: middle;\n",
       "    }\n",
       "\n",
       "    .dataframe tbody tr th {\n",
       "        vertical-align: top;\n",
       "    }\n",
       "\n",
       "    .dataframe thead th {\n",
       "        text-align: right;\n",
       "    }\n",
       "</style>\n",
       "<table border=\"1\" class=\"dataframe\">\n",
       "  <thead>\n",
       "    <tr style=\"text-align: right;\">\n",
       "      <th></th>\n",
       "      <th>created_date</th>\n",
       "      <th>borough</th>\n",
       "      <th>complaint_type</th>\n",
       "      <th>incident_zip</th>\n",
       "    </tr>\n",
       "  </thead>\n",
       "  <tbody>\n",
       "    <tr>\n",
       "      <th>0</th>\n",
       "      <td>2017-01-01T00:00:00.000</td>\n",
       "      <td>BROOKLYN</td>\n",
       "      <td>Rodent</td>\n",
       "      <td>11234</td>\n",
       "    </tr>\n",
       "    <tr>\n",
       "      <th>1</th>\n",
       "      <td>2017-01-01T00:00:00.000</td>\n",
       "      <td>BROOKLYN</td>\n",
       "      <td>Rodent</td>\n",
       "      <td>11249</td>\n",
       "    </tr>\n",
       "    <tr>\n",
       "      <th>2</th>\n",
       "      <td>2017-01-01T00:00:00.000</td>\n",
       "      <td>QUEENS</td>\n",
       "      <td>Rodent</td>\n",
       "      <td>11435</td>\n",
       "    </tr>\n",
       "    <tr>\n",
       "      <th>3</th>\n",
       "      <td>2017-01-01T00:00:00.000</td>\n",
       "      <td>QUEENS</td>\n",
       "      <td>Food Poisoning</td>\n",
       "      <td>11372</td>\n",
       "    </tr>\n",
       "    <tr>\n",
       "      <th>4</th>\n",
       "      <td>2017-01-01T00:00:00.000</td>\n",
       "      <td>QUEENS</td>\n",
       "      <td>Food Poisoning</td>\n",
       "      <td>11105</td>\n",
       "    </tr>\n",
       "  </tbody>\n",
       "</table>\n",
       "</div>"
      ],
      "text/plain": [
       "              created_date   borough  complaint_type incident_zip\n",
       "0  2017-01-01T00:00:00.000  BROOKLYN          Rodent        11234\n",
       "1  2017-01-01T00:00:00.000  BROOKLYN          Rodent        11249\n",
       "2  2017-01-01T00:00:00.000    QUEENS          Rodent        11435\n",
       "3  2017-01-01T00:00:00.000    QUEENS  Food Poisoning        11372\n",
       "4  2017-01-01T00:00:00.000    QUEENS  Food Poisoning        11105"
      ]
     },
     "execution_count": 4,
     "metadata": {},
     "output_type": "execute_result"
    }
   ],
   "source": [
    "top_complaint.head()"
   ]
  },
  {
   "cell_type": "code",
   "execution_count": 5,
   "metadata": {},
   "outputs": [
    {
     "name": "stdout",
     "output_type": "stream",
     "text": [
      "<class 'pandas.core.frame.DataFrame'>\n",
      "RangeIndex: 2445422 entries, 0 to 2445421\n",
      "Data columns (total 4 columns):\n",
      "created_date      object\n",
      "borough           object\n",
      "complaint_type    object\n",
      "incident_zip      object\n",
      "dtypes: object(4)\n",
      "memory usage: 74.6+ MB\n"
     ]
    }
   ],
   "source": [
    "top_complaint.info()"
   ]
  },
  {
   "cell_type": "code",
   "execution_count": 6,
   "metadata": {},
   "outputs": [
    {
     "data": {
      "text/plain": [
       "array(['BROOKLYN', 'QUEENS', 'MANHATTAN', 'BRONX', 'STATEN ISLAND',\n",
       "       'Unspecified'], dtype=object)"
      ]
     },
     "execution_count": 6,
     "metadata": {},
     "output_type": "execute_result"
    }
   ],
   "source": [
    "top_complaint['borough'].unique()"
   ]
  },
  {
   "cell_type": "code",
   "execution_count": 7,
   "metadata": {},
   "outputs": [],
   "source": [
    "# Drop missing values \n",
    "top_complaint.isnull().sum()\n",
    "top_complaint = top_complaint.dropna()\n",
    "\n",
    "# Drop \"Unspecified\" zip code\n",
    "top_complaint = top_complaint[top_complaint['borough'] != 'Unspecified']"
   ]
  },
  {
   "cell_type": "code",
   "execution_count": 8,
   "metadata": {},
   "outputs": [
    {
     "data": {
      "text/plain": [
       "(2338802, 4)"
      ]
     },
     "execution_count": 8,
     "metadata": {},
     "output_type": "execute_result"
    }
   ],
   "source": [
    "top_complaint.shape"
   ]
  },
  {
   "cell_type": "code",
   "execution_count": 9,
   "metadata": {},
   "outputs": [
    {
     "data": {
      "text/plain": [
       "Index(['Noise - Residential', 'HEAT/HOT WATER', 'Illegal Parking',\n",
       "       'Blocked Driveway', 'Street Condition', 'UNSANITARY CONDITION',\n",
       "       'Noise - Street/Sidewalk', 'Water System', 'Noise', 'PAINT/PLASTER'],\n",
       "      dtype='object')"
      ]
     },
     "execution_count": 9,
     "metadata": {},
     "output_type": "execute_result"
    }
   ],
   "source": [
    "# Top ten most frequently occurring complaint types\n",
    "top_ten_complaints = top_complaint['complaint_type'].value_counts().index[:10]\n",
    "top_ten_complaints"
   ]
  },
  {
   "cell_type": "code",
   "execution_count": 10,
   "metadata": {},
   "outputs": [
    {
     "data": {
      "text/plain": [
       "(1145513, 4)"
      ]
     },
     "execution_count": 10,
     "metadata": {},
     "output_type": "execute_result"
    }
   ],
   "source": [
    "# Consider only the 10 most common overall complaint types\n",
    "top_complaint = top_complaint[top_complaint.complaint_type.isin(top_ten_complaints)]\n",
    "top_complaint.shape"
   ]
  },
  {
   "cell_type": "code",
   "execution_count": 11,
   "metadata": {},
   "outputs": [
    {
     "data": {
      "text/plain": [
       "10"
      ]
     },
     "execution_count": 11,
     "metadata": {},
     "output_type": "execute_result"
    }
   ],
   "source": [
    "# Confirm complaints DFcontains rows with only top complaints \n",
    "len(top_complaint.complaint_type.unique())"
   ]
  },
  {
   "cell_type": "markdown",
   "metadata": {},
   "source": [
    "# Top 10 Complaints by Borough"
   ]
  },
  {
   "cell_type": "code",
   "execution_count": 12,
   "metadata": {},
   "outputs": [
    {
     "data": {
      "text/plain": [
       "borough        complaint_type         \n",
       "BRONX          HEAT/HOT WATER             68713\n",
       "               Noise - Residential        57663\n",
       "               Blocked Driveway           24574\n",
       "               UNSANITARY CONDITION       24557\n",
       "               PAINT/PLASTER              19493\n",
       "               Illegal Parking            16122\n",
       "               Noise - Street/Sidewalk    14025\n",
       "               Street Condition           11155\n",
       "               Water System                9965\n",
       "               Noise                       3056\n",
       "BROOKLYN       Noise - Residential        67629\n",
       "               HEAT/HOT WATER             66977\n",
       "               Illegal Parking            55380\n",
       "               Blocked Driveway           49301\n",
       "               UNSANITARY CONDITION       26654\n",
       "               Street Condition           24875\n",
       "               Noise - Street/Sidewalk    21313\n",
       "               Water System               19508\n",
       "               PAINT/PLASTER              19398\n",
       "               Noise                      15227\n",
       "MANHATTAN      Noise - Residential        51026\n",
       "               HEAT/HOT WATER             46528\n",
       "               Noise - Street/Sidewalk    29146\n",
       "               Noise                      28754\n",
       "               Illegal Parking            19686\n",
       "               UNSANITARY CONDITION       14631\n",
       "               Street Condition           14497\n",
       "               PAINT/PLASTER              11486\n",
       "               Water System               10666\n",
       "               Blocked Driveway            3428\n",
       "QUEENS         Blocked Driveway           54288\n",
       "               Noise - Residential        46396\n",
       "               Illegal Parking            46065\n",
       "               Street Condition           29495\n",
       "               HEAT/HOT WATER             29186\n",
       "               Water System               18279\n",
       "               UNSANITARY CONDITION       11467\n",
       "               Noise                      10523\n",
       "               Noise - Street/Sidewalk     7530\n",
       "               PAINT/PLASTER               5682\n",
       "STATEN ISLAND  Street Condition           10320\n",
       "               Illegal Parking             7574\n",
       "               Noise - Residential         6744\n",
       "               Water System                5273\n",
       "               Blocked Driveway            3465\n",
       "               HEAT/HOT WATER              2073\n",
       "               UNSANITARY CONDITION        1951\n",
       "               Noise                       1906\n",
       "               PAINT/PLASTER               1010\n",
       "               Noise - Street/Sidewalk      853\n",
       "Name: complaint_type, dtype: int64"
      ]
     },
     "execution_count": 12,
     "metadata": {},
     "output_type": "execute_result"
    }
   ],
   "source": [
    "\n",
    "top_complaint['complaint_type'].groupby(top_complaint['borough']).value_counts()"
   ]
  },
  {
   "cell_type": "markdown",
   "metadata": {},
   "source": [
    "***"
   ]
  },
  {
   "cell_type": "markdown",
   "metadata": {},
   "source": [
    "<font style=\"color:rgba(0, 0, 0, 0.8); font-size:18px; font-weight: 600\">2. Consider only the 10 most common overall complaint types.  For the 10 most populous zip codes, how many of each of those 10 types were there in 2017?</font>"
   ]
  },
  {
   "cell_type": "code",
   "execution_count": 13,
   "metadata": {},
   "outputs": [
    {
     "data": {
      "text/html": [
       "<div>\n",
       "<style scoped>\n",
       "    .dataframe tbody tr th:only-of-type {\n",
       "        vertical-align: middle;\n",
       "    }\n",
       "\n",
       "    .dataframe tbody tr th {\n",
       "        vertical-align: top;\n",
       "    }\n",
       "\n",
       "    .dataframe thead th {\n",
       "        text-align: right;\n",
       "    }\n",
       "</style>\n",
       "<table border=\"1\" class=\"dataframe\">\n",
       "  <thead>\n",
       "    <tr style=\"text-align: right;\">\n",
       "      <th></th>\n",
       "      <th>created_date</th>\n",
       "      <th>borough</th>\n",
       "      <th>complaint_type</th>\n",
       "      <th>incident_zip</th>\n",
       "      <th>population</th>\n",
       "    </tr>\n",
       "  </thead>\n",
       "  <tbody>\n",
       "    <tr>\n",
       "      <th>0</th>\n",
       "      <td>2017-01-01T00:00:59.000</td>\n",
       "      <td>BRONX</td>\n",
       "      <td>HEAT/HOT WATER</td>\n",
       "      <td>10467</td>\n",
       "      <td>97060</td>\n",
       "    </tr>\n",
       "    <tr>\n",
       "      <th>1</th>\n",
       "      <td>2017-01-01T00:30:40.000</td>\n",
       "      <td>BRONX</td>\n",
       "      <td>Noise - Residential</td>\n",
       "      <td>10467</td>\n",
       "      <td>97060</td>\n",
       "    </tr>\n",
       "    <tr>\n",
       "      <th>2</th>\n",
       "      <td>2017-01-01T00:53:21.000</td>\n",
       "      <td>BRONX</td>\n",
       "      <td>Illegal Parking</td>\n",
       "      <td>10467</td>\n",
       "      <td>97060</td>\n",
       "    </tr>\n",
       "    <tr>\n",
       "      <th>3</th>\n",
       "      <td>2017-01-01T01:05:17.000</td>\n",
       "      <td>BRONX</td>\n",
       "      <td>Blocked Driveway</td>\n",
       "      <td>10467</td>\n",
       "      <td>97060</td>\n",
       "    </tr>\n",
       "    <tr>\n",
       "      <th>4</th>\n",
       "      <td>2017-01-01T01:18:41.000</td>\n",
       "      <td>BRONX</td>\n",
       "      <td>Noise - Residential</td>\n",
       "      <td>10467</td>\n",
       "      <td>97060</td>\n",
       "    </tr>\n",
       "  </tbody>\n",
       "</table>\n",
       "</div>"
      ],
      "text/plain": [
       "              created_date borough       complaint_type incident_zip  \\\n",
       "0  2017-01-01T00:00:59.000   BRONX       HEAT/HOT WATER        10467   \n",
       "1  2017-01-01T00:30:40.000   BRONX  Noise - Residential        10467   \n",
       "2  2017-01-01T00:53:21.000   BRONX      Illegal Parking        10467   \n",
       "3  2017-01-01T01:05:17.000   BRONX     Blocked Driveway        10467   \n",
       "4  2017-01-01T01:18:41.000   BRONX  Noise - Residential        10467   \n",
       "\n",
       "   population  \n",
       "0       97060  \n",
       "1       97060  \n",
       "2       97060  \n",
       "3       97060  \n",
       "4       97060  "
      ]
     },
     "execution_count": 13,
     "metadata": {},
     "output_type": "execute_result"
    }
   ],
   "source": [
    "# Consider only the 10 most common overall complaint types (the top_complaint DataFrame).\n",
    "# Join the two DataFrames (top_complaint, population) based on the incident_zip key.\n",
    "\n",
    "complaint_by_zipcode = top_complaint.merge(population)\n",
    "complaint_by_zipcode['population'] = complaint_by_zipcode['population'].astype('int')\n",
    "complaint_by_zipcode.head()"
   ]
  },
  {
   "cell_type": "code",
   "execution_count": 14,
   "metadata": {},
   "outputs": [
    {
     "name": "stdout",
     "output_type": "stream",
     "text": [
      "<class 'pandas.core.frame.DataFrame'>\n",
      "Int64Index: 1141111 entries, 0 to 1141110\n",
      "Data columns (total 5 columns):\n",
      "created_date      1141111 non-null object\n",
      "borough           1141111 non-null object\n",
      "complaint_type    1141111 non-null object\n",
      "incident_zip      1141111 non-null object\n",
      "population        1141111 non-null int64\n",
      "dtypes: int64(1), object(4)\n",
      "memory usage: 52.2+ MB\n"
     ]
    }
   ],
   "source": [
    "complaint_by_zipcode.info()"
   ]
  },
  {
   "cell_type": "code",
   "execution_count": 15,
   "metadata": {},
   "outputs": [
    {
     "data": {
      "text/plain": [
       "array(['11368', '11226', '11373', '11220', '11385', '10467', '10025',\n",
       "       '11208', '11236', '11207'], dtype=object)"
      ]
     },
     "execution_count": 15,
     "metadata": {},
     "output_type": "execute_result"
    }
   ],
   "source": [
    "# Top 10 most populous zip codes \n",
    "\n",
    "top_populous_zipcode = complaint_by_zipcode.drop_duplicates(['incident_zip'])\n",
    "top_populous_zipcode = top_populous_zipcode.sort_values(by='population', ascending=False)\n",
    "\n",
    "top_ten_populous_zipcode = top_populous_zipcode['incident_zip'].values[:10]\n",
    "top_ten_populous_zipcode"
   ]
  },
  {
   "cell_type": "code",
   "execution_count": 16,
   "metadata": {},
   "outputs": [
    {
     "data": {
      "text/html": [
       "<div>\n",
       "<style scoped>\n",
       "    .dataframe tbody tr th:only-of-type {\n",
       "        vertical-align: middle;\n",
       "    }\n",
       "\n",
       "    .dataframe tbody tr th {\n",
       "        vertical-align: top;\n",
       "    }\n",
       "\n",
       "    .dataframe thead th {\n",
       "        text-align: right;\n",
       "    }\n",
       "</style>\n",
       "<table border=\"1\" class=\"dataframe\">\n",
       "  <thead>\n",
       "    <tr style=\"text-align: right;\">\n",
       "      <th></th>\n",
       "      <th>created_date</th>\n",
       "      <th>borough</th>\n",
       "      <th>complaint_type</th>\n",
       "      <th>incident_zip</th>\n",
       "      <th>population</th>\n",
       "    </tr>\n",
       "  </thead>\n",
       "  <tbody>\n",
       "    <tr>\n",
       "      <th>0</th>\n",
       "      <td>2017-01-01T00:00:59.000</td>\n",
       "      <td>BRONX</td>\n",
       "      <td>HEAT/HOT WATER</td>\n",
       "      <td>10467</td>\n",
       "      <td>97060</td>\n",
       "    </tr>\n",
       "    <tr>\n",
       "      <th>1</th>\n",
       "      <td>2017-01-01T00:30:40.000</td>\n",
       "      <td>BRONX</td>\n",
       "      <td>Noise - Residential</td>\n",
       "      <td>10467</td>\n",
       "      <td>97060</td>\n",
       "    </tr>\n",
       "    <tr>\n",
       "      <th>2</th>\n",
       "      <td>2017-01-01T00:53:21.000</td>\n",
       "      <td>BRONX</td>\n",
       "      <td>Illegal Parking</td>\n",
       "      <td>10467</td>\n",
       "      <td>97060</td>\n",
       "    </tr>\n",
       "    <tr>\n",
       "      <th>3</th>\n",
       "      <td>2017-01-01T01:05:17.000</td>\n",
       "      <td>BRONX</td>\n",
       "      <td>Blocked Driveway</td>\n",
       "      <td>10467</td>\n",
       "      <td>97060</td>\n",
       "    </tr>\n",
       "    <tr>\n",
       "      <th>4</th>\n",
       "      <td>2017-01-01T01:18:41.000</td>\n",
       "      <td>BRONX</td>\n",
       "      <td>Noise - Residential</td>\n",
       "      <td>10467</td>\n",
       "      <td>97060</td>\n",
       "    </tr>\n",
       "  </tbody>\n",
       "</table>\n",
       "</div>"
      ],
      "text/plain": [
       "              created_date borough       complaint_type incident_zip  \\\n",
       "0  2017-01-01T00:00:59.000   BRONX       HEAT/HOT WATER        10467   \n",
       "1  2017-01-01T00:30:40.000   BRONX  Noise - Residential        10467   \n",
       "2  2017-01-01T00:53:21.000   BRONX      Illegal Parking        10467   \n",
       "3  2017-01-01T01:05:17.000   BRONX     Blocked Driveway        10467   \n",
       "4  2017-01-01T01:18:41.000   BRONX  Noise - Residential        10467   \n",
       "\n",
       "   population  \n",
       "0       97060  \n",
       "1       97060  \n",
       "2       97060  \n",
       "3       97060  \n",
       "4       97060  "
      ]
     },
     "execution_count": 16,
     "metadata": {},
     "output_type": "execute_result"
    }
   ],
   "source": [
    "top_complaint_by_populous_zipcode = complaint_by_zipcode[\n",
    "    complaint_by_zipcode.incident_zip.isin(top_ten_populous_zipcode)]\n",
    "top_complaint_by_populous_zipcode.head()"
   ]
  },
  {
   "cell_type": "markdown",
   "metadata": {},
   "source": [
    "#  Top 10 complaints by 10 most populous zip codes "
   ]
  },
  {
   "cell_type": "code",
   "execution_count": 35,
   "metadata": {},
   "outputs": [
    {
     "data": {
      "text/plain": [
       "incident_zip  complaint_type         \n",
       "10025         HEAT/HOT WATER             2397\n",
       "              Noise - Residential        2085\n",
       "              Noise                      1398\n",
       "              Noise - Street/Sidewalk    1224\n",
       "              Illegal Parking             735\n",
       "              UNSANITARY CONDITION        714\n",
       "              Street Condition            628\n",
       "              PAINT/PLASTER               604\n",
       "              Water System                481\n",
       "              Blocked Driveway            125\n",
       "10467         HEAT/HOT WATER             6041\n",
       "              Noise - Residential        5803\n",
       "              UNSANITARY CONDITION       2192\n",
       "              Blocked Driveway           2067\n",
       "              PAINT/PLASTER              1955\n",
       "              Illegal Parking             982\n",
       "              Noise - Street/Sidewalk     712\n",
       "              Street Condition            612\n",
       "              Water System                560\n",
       "              Noise                       285\n",
       "11207         Noise - Residential        3060\n",
       "              HEAT/HOT WATER             2461\n",
       "              Blocked Driveway           2061\n",
       "              UNSANITARY CONDITION       1621\n",
       "              Illegal Parking            1495\n",
       "              Street Condition           1142\n",
       "              PAINT/PLASTER              1055\n",
       "              Water System                757\n",
       "              Noise - Street/Sidewalk     558\n",
       "              Noise                       199\n",
       "                                         ... \n",
       "11368         Blocked Driveway           4380\n",
       "              Noise - Residential        2460\n",
       "              HEAT/HOT WATER             1620\n",
       "              Illegal Parking            1250\n",
       "              Noise - Street/Sidewalk     684\n",
       "              UNSANITARY CONDITION        639\n",
       "              Water System                617\n",
       "              Street Condition            561\n",
       "              PAINT/PLASTER               361\n",
       "              Noise                       158\n",
       "11373         HEAT/HOT WATER             3408\n",
       "              Blocked Driveway           2623\n",
       "              Noise - Residential        1841\n",
       "              Illegal Parking            1270\n",
       "              UNSANITARY CONDITION        756\n",
       "              Street Condition            691\n",
       "              Water System                372\n",
       "              Noise - Street/Sidewalk     304\n",
       "              Noise                       270\n",
       "              PAINT/PLASTER               265\n",
       "11385         Illegal Parking            4129\n",
       "              Blocked Driveway           3039\n",
       "              Noise - Residential        2609\n",
       "              HEAT/HOT WATER             1526\n",
       "              Water System               1240\n",
       "              Street Condition           1232\n",
       "              UNSANITARY CONDITION        647\n",
       "              Noise - Street/Sidewalk     607\n",
       "              Noise                       507\n",
       "              PAINT/PLASTER               352\n",
       "Name: complaint_type, Length: 100, dtype: int64"
      ]
     },
     "execution_count": 35,
     "metadata": {},
     "output_type": "execute_result"
    }
   ],
   "source": [
    "# todo: sort by zip code \n",
    "top_complaint_by_populous_zipcode['complaint_type'].groupby(\n",
    "    top_complaint_by_populous_zipcode['incident_zip']).value_counts()"
   ]
  },
  {
   "cell_type": "markdown",
   "metadata": {},
   "source": [
    "***"
   ]
  },
  {
   "cell_type": "markdown",
   "metadata": {},
   "source": [
    "<font style=\"color:rgba(0, 0, 0, 0.8); font-size:18px; font-weight: 600\">3. Considering all complaint types. Which boroughs are the biggest \"complainers\" relative to the size of the population in 2017? Meaning, calculate a complaint-index that adjusts for population of the borough.</font>"
   ]
  },
  {
   "cell_type": "code",
   "execution_count": 58,
   "metadata": {},
   "outputs": [],
   "source": [
    "\n",
    "all_complaint.isnull().sum()\n",
    "all_complaint = all_complaint.dropna()\n",
    "\n",
    "# Drop \"Unspecified\" zip code\n",
    "all_complaint = all_complaint[all_complaint['borough'] != 'Unspecified']\n",
    "\n",
    "all_complaint_population = all_complaint.merge(population)\n",
    "all_complaint_population['population'] = all_complaint_population['population'].astype('int')"
   ]
  },
  {
   "cell_type": "code",
   "execution_count": 63,
   "metadata": {},
   "outputs": [
    {
     "name": "stdout",
     "output_type": "stream",
     "text": [
      "<class 'pandas.core.frame.DataFrame'>\n",
      "Int64Index: 2328967 entries, 0 to 2328966\n",
      "Data columns (total 5 columns):\n",
      "created_date      object\n",
      "borough           object\n",
      "complaint_type    object\n",
      "incident_zip      object\n",
      "population        int64\n",
      "dtypes: int64(1), object(4)\n",
      "memory usage: 106.6+ MB\n"
     ]
    }
   ],
   "source": [
    "all_complaint_population.info()"
   ]
  },
  {
   "cell_type": "code",
   "execution_count": 66,
   "metadata": {},
   "outputs": [
    {
     "data": {
      "text/plain": [
       "borough\n",
       "BRONX            432981\n",
       "BROOKLYN         737358\n",
       "MANHATTAN        461523\n",
       "QUEENS           571607\n",
       "STATEN ISLAND    125498\n",
       "Name: complaint_type, dtype: int64"
      ]
     },
     "execution_count": 66,
     "metadata": {},
     "output_type": "execute_result"
    }
   ],
   "source": [
    "# Number of complaints per borough in 2017\n",
    "\n",
    "complaint_borough = all_complaint_population.groupby(['borough']).agg({'complaint_type': 'count'})['complaint_type']\n",
    "complaint_borough"
   ]
  },
  {
   "cell_type": "code",
   "execution_count": 72,
   "metadata": {},
   "outputs": [
    {
     "data": {
      "text/plain": [
       "borough\n",
       "BRONX            1437243\n",
       "BROOKLYN         2504700\n",
       "MANHATTAN        1595338\n",
       "QUEENS           2390901\n",
       "STATEN ISLAND     468730\n",
       "Name: population, dtype: int64"
      ]
     },
     "execution_count": 72,
     "metadata": {},
     "output_type": "execute_result"
    }
   ],
   "source": [
    "# The population of the boroughs of New York City \n",
    "population_borough = all_complaint_population.drop_duplicates(subset='incident_zip')\n",
    "total_population_borough = population_borough.groupby(['borough']).agg({'population': 'sum'})['population']\n",
    "total_population_borough"
   ]
  },
  {
   "cell_type": "markdown",
   "metadata": {},
   "source": [
    "# Which boroughs are the biggest \"complainers\"?"
   ]
  },
  {
   "cell_type": "code",
   "execution_count": 74,
   "metadata": {},
   "outputs": [
    {
     "data": {
      "text/plain": [
       "borough\n",
       "BRONX            0.301258\n",
       "BROOKLYN         0.294390\n",
       "MANHATTAN        0.289295\n",
       "QUEENS           0.239076\n",
       "STATEN ISLAND    0.267740\n",
       "dtype: float64"
      ]
     },
     "execution_count": 74,
     "metadata": {},
     "output_type": "execute_result"
    }
   ],
   "source": [
    "complaint_borough/total_population_borough"
   ]
  },
  {
   "cell_type": "code",
   "execution_count": null,
   "metadata": {},
   "outputs": [],
   "source": []
  },
  {
   "cell_type": "code",
   "execution_count": null,
   "metadata": {},
   "outputs": [],
   "source": []
  }
 ],
 "metadata": {
  "kernelspec": {
   "display_name": "Python 3",
   "language": "python",
   "name": "python3"
  },
  "language_info": {
   "codemirror_mode": {
    "name": "ipython",
    "version": 3
   },
   "file_extension": ".py",
   "mimetype": "text/x-python",
   "name": "python",
   "nbconvert_exporter": "python",
   "pygments_lexer": "ipython3",
   "version": "3.6.4"
  }
 },
 "nbformat": 4,
 "nbformat_minor": 2
}
